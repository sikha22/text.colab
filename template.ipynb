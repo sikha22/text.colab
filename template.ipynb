{
  "nbformat": 4,
  "nbformat_minor": 0,
  "metadata": {
    "colab": {
      "name": "intro.ipynb",
      "provenance": [],
      "collapsed_sections": [],
      "authorship_tag": "ABX9TyMyvQ4SjCtg1o7tWrvw/6Sm",
      "include_colab_link": true
    },
    "kernelspec": {
      "name": "python3",
      "display_name": "Python 3"
    },
    "language_info": {
      "name": "python"
    }
  },
  "cells": [
    {
      "cell_type": "markdown",
      "metadata": {
        "id": "view-in-github",
        "colab_type": "text"
      },
      "source": [
        "<a href=\"https://colab.research.google.com/github/sikha22/text.colab/blob/master/template.ipynb\" target=\"_parent\"><img src=\"https://colab.research.google.com/assets/colab-badge.svg\" alt=\"Open In Colab\"/></a>"
      ]
    },
    {
      "cell_type": "markdown",
      "metadata": {
        "id": "130m217-N78q"
      },
      "source": [
        "### Python Programs"
      ]
    },
    {
      "cell_type": "markdown",
      "metadata": {
        "id": "4VnMqzr5QsZw"
      },
      "source": [
        "![Python](https://www.python.org/static/community_logos/python-logo-master-v3-TM-flattened.png)\n",
        "[Twitter](https://twitter.com/home)"
      ]
    },
    {
      "cell_type": "markdown",
      "metadata": {
        "id": "tSmNUUroRlmo"
      },
      "source": [
        "### Mathematical algebra\n",
        "$y=x^2$\n",
        "\n",
        "$A= \\begin{pmatrix}\n",
        "a_{1,1} & a_{1,2} \\\\\n",
        "a_{6,7} & a_{8,9}\n",
        "\\end{pmatrix}$\n",
        "\n",
        "column1 | column2 | column3\n",
        "---| ---| ---|\n",
        "value1 | value2 | value3\n",
        "6 | 7  | 8\n",
        " 1 | 4 | 3\n",
        " 5 | 12 | 2"
      ]
    },
    {
      "cell_type": "code",
      "metadata": {
        "colab": {
          "base_uri": "https://localhost:8080/"
        },
        "id": "rhCaFyojOAfo",
        "outputId": "442bfcf0-b0b3-4b93-e021-82f247fa1b8e"
      },
      "source": [
        "print(\"hello world!!\")"
      ],
      "execution_count": 1,
      "outputs": [
        {
          "output_type": "stream",
          "name": "stdout",
          "text": [
            "hello world!!\n"
          ]
        }
      ]
    },
    {
      "cell_type": "code",
      "metadata": {
        "colab": {
          "base_uri": "https://localhost:8080/"
        },
        "id": "ZQgdhwZLOlpn",
        "outputId": "adf536b9-6c83-45a0-c8e5-52cafc398f1b"
      },
      "source": [
        "print(\"Hey new way\")"
      ],
      "execution_count": 1,
      "outputs": [
        {
          "output_type": "stream",
          "name": "stdout",
          "text": [
            "Hey new way\n"
          ]
        }
      ]
    },
    {
      "cell_type": "code",
      "metadata": {
        "id": "ECN8o70wPm17",
        "colab": {
          "base_uri": "https://localhost:8080/"
        },
        "outputId": "012712f7-7a6d-4f76-c2f4-7e7fb2c98a55"
      },
      "source": [
        "print(\"Hello Colab\")"
      ],
      "execution_count": 2,
      "outputs": [
        {
          "output_type": "stream",
          "name": "stdout",
          "text": [
            "Hello Colab\n"
          ]
        }
      ]
    },
    {
      "cell_type": "code",
      "metadata": {
        "colab": {
          "base_uri": "https://localhost:8080/"
        },
        "id": "bMnKT_63TpXW",
        "outputId": "0fa58ea5-08a4-495b-da9c-ef2e6bbc756d"
      },
      "source": [
        "#type of variables\n",
        "x=5\n",
        "y='sikha'\n",
        "print(type(x))\n",
        "print(type(y))"
      ],
      "execution_count": 3,
      "outputs": [
        {
          "output_type": "stream",
          "name": "stdout",
          "text": [
            "<class 'int'>\n",
            "<class 'str'>\n"
          ]
        }
      ]
    },
    {
      "cell_type": "code",
      "metadata": {
        "colab": {
          "base_uri": "https://localhost:8080/"
        },
        "id": "rG5JpO7yVMHz",
        "outputId": "abe1b11f-bb0b-4920-8c5a-1422a372c547"
      },
      "source": [
        "#assigning multiple value to variables\n",
        "x,y,z=\"India\",\"Bharat\",\"Hindustan\"\n",
        "print(x)\n",
        "print(y)\n",
        "print(z)"
      ],
      "execution_count": 4,
      "outputs": [
        {
          "output_type": "stream",
          "name": "stdout",
          "text": [
            "India\n",
            "Bharat\n",
            "Hindustan\n"
          ]
        }
      ]
    },
    {
      "cell_type": "code",
      "metadata": {
        "colab": {
          "base_uri": "https://localhost:8080/"
        },
        "id": "nJDp_INJVioL",
        "outputId": "a9db572a-be35-4b4e-aca3-3b4e50550865"
      },
      "source": [
        "x=y=z=\"Equal\"\n",
        "print(x)\n",
        "print(y)\n",
        "print(z)"
      ],
      "execution_count": 2,
      "outputs": [
        {
          "output_type": "stream",
          "name": "stdout",
          "text": [
            "Equal\n",
            "Equal\n",
            "Equal\n"
          ]
        }
      ]
    },
    {
      "cell_type": "code",
      "metadata": {
        "colab": {
          "base_uri": "https://localhost:8080/"
        },
        "id": "Tb4CQcL9Zuug",
        "outputId": "4788777b-0470-436a-a83d-dd36ed0b9aec"
      },
      "source": [
        "\"\"\" write a python function to find the max of three number \"\"\"\n",
        "a=(input(\"Enter 1st number:\"))\n",
        "b=(input(\"Enter 2nd number:\"))\n",
        "c=(input(\"Enter 3rd number:\"))\n",
        "\n",
        "if(a>=b and a>=c):\n",
        "    print(\"1st number is max\")\n",
        "    \n",
        "elif(b>=c and b>=a):\n",
        "    print(\"2nd number is max\")\n",
        "else:\n",
        "    print(\"3rd number is max\")\n",
        "    \n"
      ],
      "execution_count": 8,
      "outputs": [
        {
          "output_type": "stream",
          "name": "stdout",
          "text": [
            "Enter 1st number:76\n",
            "Enter 2nd number:34\n",
            "Enter 3rd number:90\n",
            "3rd number is max\n"
          ]
        }
      ]
    },
    {
      "cell_type": "code",
      "metadata": {
        "id": "5arAO5WPt4lb",
        "outputId": "86d54d49-0492-449d-c361-f80ebcde5664",
        "colab": {
          "base_uri": "https://localhost:8080/",
          "height": 248
        }
      },
      "source": [
        "import matplotlib.pyplot as plt\n",
        "import numpy as np\n",
        "y=np.array([35,25,25,15])\n",
        "mylabels=[\"Apples\",\"Bananas\",\"Oranges\",\"Pineapples\"]\n",
        "mycolors=[\"blue\",\"hotpink\",\"orange\",\"darkgreen\"]\n",
        "\n",
        "plt.pie(y,labels=mylabels,colors=mycolors)\n",
        "plt.show()"
      ],
      "execution_count": 8,
      "outputs": [
        {
          "output_type": "display_data",
          "data": {
            "image/png": "[encoded data removed]",
            "text/plain": [
              "<Figure size 432x288 with 1 Axes>"
            ]
          },
          "metadata": {}
        }
      ]
    }
  ]
}