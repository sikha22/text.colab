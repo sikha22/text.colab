{
  "nbformat": 4,
  "nbformat_minor": 0,
  "metadata": {
    "colab": {
      "name": "intro.ipynb",
      "provenance": [],
      "collapsed_sections": [],
      "authorship_tag": "ABX9TyPy61/jiSzOV9Dn2cwXlKl1",
      "include_colab_link": true
    },
    "kernelspec": {
      "name": "python3",
      "display_name": "Python 3"
    },
    "language_info": {
      "name": "python"
    }
  },
  "cells": [
    {
      "cell_type": "markdown",
      "metadata": {
        "id": "view-in-github",
        "colab_type": "text"
      },
      "source": [
        "<a href=\"https://colab.research.google.com/github/sikha22/text.colab/blob/master/pythonFolder.ipynb\" target=\"_parent\"><img src=\"https://colab.research.google.com/assets/colab-badge.svg\" alt=\"Open In Colab\"/></a>"
      ]
    },
    {
      "cell_type": "code",
      "metadata": {
        "colab": {
          "base_uri": "https://localhost:8080/"
        },
        "id": "ZQgdhwZLOlpn",
        "outputId": "c07b8a0b-30ba-410e-c4cd-a0f52693aaf2"
      },
      "source": [
        "print(\"Hey new way\")"
      ],
      "execution_count": null,
      "outputs": [
        {
          "output_type": "stream",
          "name": "stdout",
          "text": [
            "Hey new way\n"
          ]
        }
      ]
    },
    {
      "cell_type": "code",
      "metadata": {
        "id": "ECN8o70wPm17",
        "colab": {
          "base_uri": "https://localhost:8080/"
        },
        "outputId": "d0a7e806-7c3f-4932-dfbb-0319c5144a58"
      },
      "source": [
        "#casting\n",
        "x=str(3)\n",
        "y=int(3)\n",
        "z=float(3)\n",
        "print(x)\n",
        "print(y)\n",
        "print(z)"
      ],
      "execution_count": 2,
      "outputs": [
        {
          "output_type": "stream",
          "name": "stdout",
          "text": [
            "3\n",
            "3\n",
            "3.0\n"
          ]
        }
      ]
    },
    {
      "cell_type": "code",
      "metadata": {
        "colab": {
          "base_uri": "https://localhost:8080/"
        },
        "id": "99E0J63fckTq",
        "outputId": "65322b78-95b5-4766-f5cc-5108cc95d52f"
      },
      "source": [
        "x=9\n",
        "y=\"july\"\n",
        "print(type(x))\n",
        "print(type(y))"
      ],
      "execution_count": 3,
      "outputs": [
        {
          "output_type": "stream",
          "name": "stdout",
          "text": [
            "<class 'int'>\n",
            "<class 'str'>\n"
          ]
        }
      ]
    },
    {
      "cell_type": "code",
      "metadata": {
        "colab": {
          "base_uri": "https://localhost:8080/"
        },
        "id": "wXfqSFgWct2V",
        "outputId": "7f92951e-a02d-4f0c-80f9-8aa38cbb5a86"
      },
      "source": [
        "x=\"kind\"\n",
        "y=\"you are very \"\n",
        "print(y+x)"
      ],
      "execution_count": 5,
      "outputs": [
        {
          "output_type": "stream",
          "name": "stdout",
          "text": [
            "you are very kind\n"
          ]
        }
      ]
    },
    {
      "cell_type": "code",
      "metadata": {
        "colab": {
          "base_uri": "https://localhost:8080/"
        },
        "id": "AgEO3X0qdEDy",
        "outputId": "8ed28b84-682e-482a-d81e-177af33aacf5"
      },
      "source": [
        "x=\"Country\"\n",
        "print(\"I love my \" + x)"
      ],
      "execution_count": 6,
      "outputs": [
        {
          "output_type": "stream",
          "name": "stdout",
          "text": [
            "I love my Country\n"
          ]
        }
      ]
    },
    {
      "cell_type": "code",
      "metadata": {
        "colab": {
          "base_uri": "https://localhost:8080/"
        },
        "id": "td6D_aRgdLvJ",
        "outputId": "923d0d57-a1b4-437a-dc94-51f313f85cb9"
      },
      "source": [
        "x=5\n",
        "y=10\n",
        "print(x+y)"
      ],
      "execution_count": 7,
      "outputs": [
        {
          "output_type": "stream",
          "name": "stdout",
          "text": [
            "15\n"
          ]
        }
      ]
    },
    {
      "cell_type": "code",
      "metadata": {
        "colab": {
          "base_uri": "https://localhost:8080/"
        },
        "id": "bj8sOZJDdRxH",
        "outputId": "8d74507e-e1ae-49d0-f34a-db4413c3dea7"
      },
      "source": [
        "x=\"Leaving dreams\"\n",
        "def myfunc():\n",
        "  print(\"Living with dream is much better than \" +x)\n",
        "myfunc()"
      ],
      "execution_count": 11,
      "outputs": [
        {
          "output_type": "stream",
          "name": "stdout",
          "text": [
            "Living with dream is much better than Leaving dreams\n"
          ]
        }
      ]
    },
    {
      "cell_type": "code",
      "metadata": {
        "colab": {
          "base_uri": "https://localhost:8080/"
        },
        "id": "5DrrKaSid7sF",
        "outputId": "e5aa3b88-6cfa-42e7-e917-324aa6e66ab0"
      },
      "source": [
        "x=\"low\"\n",
        "def myfunc():\n",
        "  x=\"radio\"\n",
        "  print(\"Make me your \" + x)\n",
        "myfunc()\n",
        "print(\"Turn me up when you feel \" + x)"
      ],
      "execution_count": 12,
      "outputs": [
        {
          "output_type": "stream",
          "name": "stdout",
          "text": [
            "Make me yourradio\n",
            "Turn me up when you feel low\n"
          ]
        }
      ]
    },
    {
      "cell_type": "code",
      "metadata": {
        "colab": {
          "base_uri": "https://localhost:8080/"
        },
        "id": "4vJogstwedw6",
        "outputId": "53230f0b-bba2-44e5-cc9f-1e62cb049f5e"
      },
      "source": [
        "def myfunc():\n",
        "  global x\n",
        "  x=\"Indian\"\n",
        "myfunc()\n",
        "print(\"Proud to be an \"+x)"
      ],
      "execution_count": 13,
      "outputs": [
        {
          "output_type": "stream",
          "name": "stdout",
          "text": [
            "Proud to be an Indian\n"
          ]
        }
      ]
    },
    {
      "cell_type": "code",
      "metadata": {
        "colab": {
          "base_uri": "https://localhost:8080/"
        },
        "id": "Y4hwR0ufex5_",
        "outputId": "11b01fc1-de51-4542-e03a-784cbb306f14"
      },
      "source": [
        "#we can use global keyword to change the value of global variable inside a function\n",
        "x=\"boy\"\n",
        "def myfunc():\n",
        "  global x\n",
        "  x=\"girl\"\n",
        "myfunc()\n",
        "print(\"I am a super \"+x)"
      ],
      "execution_count": 14,
      "outputs": [
        {
          "output_type": "stream",
          "name": "stdout",
          "text": [
            "I am a super girl\n"
          ]
        }
      ]
    },
    {
      "cell_type": "code",
      "metadata": {
        "colab": {
          "base_uri": "https://localhost:8080/"
        },
        "id": "Z-r3yNn5fRol",
        "outputId": "705080e4-8496-416f-cc06-c2afe08d8a9d"
      },
      "source": [
        "x=5\n",
        "y=1j\n",
        "z=22.0\n",
        "a=\"shikha\"\n",
        "b=(4,3,2)\n",
        "c=[1,2,3]\n",
        "d={\"black\":\"white\",\"east\":\"west\",\"up\":\"down\"}\n",
        "print(type(x))\n",
        "print(type(y))\n",
        "print(type(z))\n",
        "print(type(a))\n",
        "print(type(b))\n",
        "print(type(c))\n",
        "print(type(d))"
      ],
      "execution_count": 15,
      "outputs": [
        {
          "output_type": "stream",
          "name": "stdout",
          "text": [
            "<class 'int'>\n",
            "<class 'complex'>\n",
            "<class 'float'>\n",
            "<class 'str'>\n",
            "<class 'tuple'>\n",
            "<class 'list'>\n",
            "<class 'dict'>\n"
          ]
        }
      ]
    },
    {
      "cell_type": "code",
      "metadata": {
        "colab": {
          "base_uri": "https://localhost:8080/"
        },
        "id": "oJO_z5KDghXw",
        "outputId": "db1b1ca8-8a70-4ff5-ed17-3786ca6e061b"
      },
      "source": [
        "a=\"\"\"My name is Sikha Kumari,\n",
        "I am from Bihar,\n",
        "and currently pursuing b.tech(cse)\"\"\"\n",
        "print(a)"
      ],
      "execution_count": 16,
      "outputs": [
        {
          "output_type": "stream",
          "name": "stdout",
          "text": [
            "My name is Sikha Kumari,\n",
            "I am from Bihar,\n",
            "and currently pursuing b.tech(cse)\n"
          ]
        }
      ]
    },
    {
      "cell_type": "code",
      "metadata": {
        "colab": {
          "base_uri": "https://localhost:8080/"
        },
        "id": "df3G1-l4hANB",
        "outputId": "b5667354-a3e3-4b25-efdf-5f4f913b86d3"
      },
      "source": [
        "a='''My name is Sikha Kumari,\n",
        "I am from Bihar,\n",
        "and currently pursuing b.tech(cse)'''\n",
        "print(a)"
      ],
      "execution_count": 17,
      "outputs": [
        {
          "output_type": "stream",
          "name": "stdout",
          "text": [
            "My name is Sikha Kumari,\n",
            "I am from Bihar,\n",
            "and currently pursuing b.tech(cse)\n"
          ]
        }
      ]
    },
    {
      "cell_type": "code",
      "metadata": {
        "colab": {
          "base_uri": "https://localhost:8080/"
        },
        "id": "po1atpK1hFDv",
        "outputId": "fd8c857d-fbd0-459e-fa23-0379079eaab5"
      },
      "source": [
        "a=\"Vampire Diaries\"\n",
        "print(a[1])"
      ],
      "execution_count": 18,
      "outputs": [
        {
          "output_type": "stream",
          "name": "stdout",
          "text": [
            "a\n"
          ]
        }
      ]
    },
    {
      "cell_type": "code",
      "metadata": {
        "colab": {
          "base_uri": "https://localhost:8080/"
        },
        "id": "EKKPD-MHhTO_",
        "outputId": "fb3bbd02-2f93-46ac-ba31-bcd939d64f60"
      },
      "source": [
        "#looping through a string\n",
        "for x in \"shikha\":\n",
        "  print(x)"
      ],
      "execution_count": 20,
      "outputs": [
        {
          "output_type": "stream",
          "name": "stdout",
          "text": [
            "s\n",
            "h\n",
            "i\n",
            "k\n",
            "h\n",
            "a\n"
          ]
        }
      ]
    },
    {
      "cell_type": "code",
      "metadata": {
        "colab": {
          "base_uri": "https://localhost:8080/"
        },
        "id": "Tu6qcVRXhfVZ",
        "outputId": "90e48716-f541-4c4b-bf5d-ecfc6283fbf6"
      },
      "source": [
        "x=\"Welcome Home\"\n",
        "print(len(x))"
      ],
      "execution_count": 21,
      "outputs": [
        {
          "output_type": "stream",
          "name": "stdout",
          "text": [
            "12\n"
          ]
        }
      ]
    },
    {
      "cell_type": "code",
      "metadata": {
        "colab": {
          "base_uri": "https://localhost:8080/"
        },
        "id": "LuI8EJ55hpoe",
        "outputId": "f34b9151-bc76-4067-e188-ce9e783d6e44"
      },
      "source": [
        "z=\"Shikha and Rimjhim are best friends!\"\n",
        "print(\"best\" in z)\n",
        "print(\"good\" in z)\n",
        "print(\"are\" not in z)\n",
        "print(\"good\" not in z)"
      ],
      "execution_count": 25,
      "outputs": [
        {
          "output_type": "stream",
          "name": "stdout",
          "text": [
            "True\n",
            "False\n",
            "False\n",
            "True\n"
          ]
        }
      ]
    },
    {
      "cell_type": "code",
      "metadata": {
        "colab": {
          "base_uri": "https://localhost:8080/"
        },
        "id": "JtDDkPvoiD8H",
        "outputId": "9a209f45-7ef3-4df2-ff50-a6fbfabdd290"
      },
      "source": [
        "a=\"Life is incomplete without friends!\"\n",
        "if \" incomplete\" in a:\n",
        "  print(\"Yes, incomplete is present in a\")\n"
      ],
      "execution_count": 30,
      "outputs": [
        {
          "output_type": "stream",
          "name": "stdout",
          "text": [
            "Yes, incomplete is present in a\n"
          ]
        }
      ]
    },
    {
      "cell_type": "code",
      "metadata": {
        "id": "Mc2UvL5Iis58"
      },
      "source": [
        ""
      ],
      "execution_count": null,
      "outputs": []
    },
    {
      "cell_type": "code",
      "metadata": {
        "id": "ptxdvviQhYjA"
      },
      "source": [
        ""
      ],
      "execution_count": null,
      "outputs": []
    }
  ]
}