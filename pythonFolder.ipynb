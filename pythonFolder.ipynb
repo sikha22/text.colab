{
  "nbformat": 4,
  "nbformat_minor": 0,
  "metadata": {
    "colab": {
      "name": "intro.ipynb",
      "provenance": [],
      "collapsed_sections": [],
      "authorship_tag": "ABX9TyN3edpTlYq2wzIfPkY5E050",
      "include_colab_link": true
    },
    "kernelspec": {
      "name": "python3",
      "display_name": "Python 3"
    },
    "language_info": {
      "name": "python"
    }
  },
  "cells": [
    {
      "cell_type": "markdown",
      "metadata": {
        "id": "view-in-github",
        "colab_type": "text"
      },
      "source": [
        "<a href=\"https://colab.research.google.com/github/sikha22/text.colab/blob/master/pythonFolder.ipynb\" target=\"_parent\"><img src=\"https://colab.research.google.com/assets/colab-badge.svg\" alt=\"Open In Colab\"/></a>"
      ]
    },
    {
      "cell_type": "code",
      "metadata": {
        "colab": {
          "base_uri": "https://localhost:8080/"
        },
        "id": "ZQgdhwZLOlpn",
        "outputId": "adf536b9-6c83-45a0-c8e5-52cafc398f1b"
      },
      "source": [
        "print(\"Hey new way\")"
      ],
      "execution_count": 1,
      "outputs": [
        {
          "output_type": "stream",
          "name": "stdout",
          "text": [
            "Hey new way\n"
          ]
        }
      ]
    },
    {
      "cell_type": "code",
      "metadata": {
        "id": "ECN8o70wPm17",
        "colab": {
          "base_uri": "https://localhost:8080/"
        },
        "outputId": "012712f7-7a6d-4f76-c2f4-7e7fb2c98a55"
      },
      "source": [
        "print(\"Hello Colab\")"
      ],
      "execution_count": 2,
      "outputs": [
        {
          "output_type": "stream",
          "name": "stdout",
          "text": [
            "Hello Colab\n"
          ]
        }
      ]
    },
    {
      "cell_type": "code",
      "metadata": {
        "colab": {
          "base_uri": "https://localhost:8080/"
        },
        "id": "bMnKT_63TpXW",
        "outputId": "0fa58ea5-08a4-495b-da9c-ef2e6bbc756d"
      },
      "source": [
        "#type of variables\n",
        "x=5\n",
        "y='sikha'\n",
        "print(type(x))\n",
        "print(type(y))"
      ],
      "execution_count": 3,
      "outputs": [
        {
          "output_type": "stream",
          "name": "stdout",
          "text": [
            "<class 'int'>\n",
            "<class 'str'>\n"
          ]
        }
      ]
    },
    {
      "cell_type": "code",
      "metadata": {
        "id": "rG5JpO7yVMHz",
        "outputId": "abe1b11f-bb0b-4920-8c5a-1422a372c547",
        "colab": {
          "base_uri": "https://localhost:8080/"
        }
      },
      "source": [
        "#assigning multiple value to variables\n",
        "x,y,z=\"India\",\"Bharat\",\"Hindustan\"\n",
        "print(x)\n",
        "print(y)\n",
        "print(z)"
      ],
      "execution_count": 4,
      "outputs": [
        {
          "output_type": "stream",
          "name": "stdout",
          "text": [
            "India\n",
            "Bharat\n",
            "Hindustan\n"
          ]
        }
      ]
    }
  ]
}